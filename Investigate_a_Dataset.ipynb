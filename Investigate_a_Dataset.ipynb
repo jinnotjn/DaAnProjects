{
 "cells": [
  {
   "cell_type": "markdown",
   "metadata": {},
   "source": [
    "\n",
    "\n",
    "# Project: Investigate Movie Data\n",
    "\n",
    "## Table of Contents\n",
    "<ul>\n",
    "<li><a href=\"#intro\">Introduction</a></li>\n",
    "<li><a href=\"#wrangling\">Data Wrangling</a></li>\n",
    "<li><a href=\"#eda\">Exploratory Data Analysis</a></li>\n",
    "<li><a href=\"#conclusions\">Conclusions</a></li>\n",
    "</ul>"
   ]
  },
  {
   "cell_type": "markdown",
   "metadata": {},
   "source": [
    "<a id='intro'></a>\n",
    "## Introduction\n",
    "\n",
    "Movies is a major field of entertainment for decades now and its popularity and influence increases with every passing year and the expanding materials, cultures and events that can influence a group of people to make a movie. Movies generates huge amount of money and considered to be major jobs and economy generator. In this report I will check the data available about 10,000 movies released from 1960 to 2015 acquiered by kaggle from IMDB and try to find insights on criterias for how movie performance is affected.\n",
    "A major area to study is the Popularity of a movie and how it's connected to revenues and budgets. Therefore, this is the first question that I will explore. Second is how movies perform in revenue and votes when we put to consider the individuals and genre of the movie."
   ]
  },
  {
   "cell_type": "code",
   "execution_count": 2,
   "metadata": {},
   "outputs": [],
   "source": [
    "\n",
    "import pandas as ps\n",
    "import numpy as ny\n",
    "import matplotlib.pyplot as plt\n",
    "import seaborn as sns\n",
    "%matplotlib inline  "
   ]
  },
  {
   "cell_type": "markdown",
   "metadata": {},
   "source": [
    "<a id='wrangling'></a>\n",
    "## Data Wrangling\n",
    "The first stage is Data Wrangling which start by loading target data into the notebook, determining its main properties and checking it out searching for any values that need editing or are missing.\n",
    "\n",
    "### General Properties"
   ]
  },
  {
   "cell_type": "code",
   "execution_count": 3,
   "metadata": {},
   "outputs": [
    {
     "data": {
      "text/html": [
       "<div>\n",
       "<style scoped>\n",
       "    .dataframe tbody tr th:only-of-type {\n",
       "        vertical-align: middle;\n",
       "    }\n",
       "\n",
       "    .dataframe tbody tr th {\n",
       "        vertical-align: top;\n",
       "    }\n",
       "\n",
       "    .dataframe thead th {\n",
       "        text-align: right;\n",
       "    }\n",
       "</style>\n",
       "<table border=\"1\" class=\"dataframe\">\n",
       "  <thead>\n",
       "    <tr style=\"text-align: right;\">\n",
       "      <th></th>\n",
       "      <th>id</th>\n",
       "      <th>imdb_id</th>\n",
       "      <th>popularity</th>\n",
       "      <th>budget</th>\n",
       "      <th>revenue</th>\n",
       "      <th>cast</th>\n",
       "      <th>homepage</th>\n",
       "      <th>director</th>\n",
       "      <th>tagline</th>\n",
       "      <th>keywords</th>\n",
       "      <th>overview</th>\n",
       "      <th>runtime</th>\n",
       "      <th>genres</th>\n",
       "      <th>production_companies</th>\n",
       "      <th>release_date</th>\n",
       "      <th>vote_count</th>\n",
       "      <th>vote_average</th>\n",
       "      <th>release_year</th>\n",
       "      <th>budget_adj</th>\n",
       "      <th>revenue_adj</th>\n",
       "    </tr>\n",
       "    <tr>\n",
       "      <th>original_title</th>\n",
       "      <th></th>\n",
       "      <th></th>\n",
       "      <th></th>\n",
       "      <th></th>\n",
       "      <th></th>\n",
       "      <th></th>\n",
       "      <th></th>\n",
       "      <th></th>\n",
       "      <th></th>\n",
       "      <th></th>\n",
       "      <th></th>\n",
       "      <th></th>\n",
       "      <th></th>\n",
       "      <th></th>\n",
       "      <th></th>\n",
       "      <th></th>\n",
       "      <th></th>\n",
       "      <th></th>\n",
       "      <th></th>\n",
       "      <th></th>\n",
       "    </tr>\n",
       "  </thead>\n",
       "  <tbody>\n",
       "    <tr>\n",
       "      <th>Jurassic World</th>\n",
       "      <td>135397</td>\n",
       "      <td>tt0369610</td>\n",
       "      <td>32.985763</td>\n",
       "      <td>150000000</td>\n",
       "      <td>1513528810</td>\n",
       "      <td>Chris Pratt|Bryce Dallas Howard|Irrfan Khan|Vi...</td>\n",
       "      <td>http://www.jurassicworld.com/</td>\n",
       "      <td>Colin Trevorrow</td>\n",
       "      <td>The park is open.</td>\n",
       "      <td>monster|dna|tyrannosaurus rex|velociraptor|island</td>\n",
       "      <td>Twenty-two years after the events of Jurassic ...</td>\n",
       "      <td>124</td>\n",
       "      <td>Action|Adventure|Science Fiction|Thriller</td>\n",
       "      <td>Universal Studios|Amblin Entertainment|Legenda...</td>\n",
       "      <td>6/9/15</td>\n",
       "      <td>5562</td>\n",
       "      <td>6.5</td>\n",
       "      <td>2015</td>\n",
       "      <td>1.379999e+08</td>\n",
       "      <td>1.392446e+09</td>\n",
       "    </tr>\n",
       "    <tr>\n",
       "      <th>Mad Max: Fury Road</th>\n",
       "      <td>76341</td>\n",
       "      <td>tt1392190</td>\n",
       "      <td>28.419936</td>\n",
       "      <td>150000000</td>\n",
       "      <td>378436354</td>\n",
       "      <td>Tom Hardy|Charlize Theron|Hugh Keays-Byrne|Nic...</td>\n",
       "      <td>http://www.madmaxmovie.com/</td>\n",
       "      <td>George Miller</td>\n",
       "      <td>What a Lovely Day.</td>\n",
       "      <td>future|chase|post-apocalyptic|dystopia|australia</td>\n",
       "      <td>An apocalyptic story set in the furthest reach...</td>\n",
       "      <td>120</td>\n",
       "      <td>Action|Adventure|Science Fiction|Thriller</td>\n",
       "      <td>Village Roadshow Pictures|Kennedy Miller Produ...</td>\n",
       "      <td>5/13/15</td>\n",
       "      <td>6185</td>\n",
       "      <td>7.1</td>\n",
       "      <td>2015</td>\n",
       "      <td>1.379999e+08</td>\n",
       "      <td>3.481613e+08</td>\n",
       "    </tr>\n",
       "    <tr>\n",
       "      <th>Insurgent</th>\n",
       "      <td>262500</td>\n",
       "      <td>tt2908446</td>\n",
       "      <td>13.112507</td>\n",
       "      <td>110000000</td>\n",
       "      <td>295238201</td>\n",
       "      <td>Shailene Woodley|Theo James|Kate Winslet|Ansel...</td>\n",
       "      <td>http://www.thedivergentseries.movie/#insurgent</td>\n",
       "      <td>Robert Schwentke</td>\n",
       "      <td>One Choice Can Destroy You</td>\n",
       "      <td>based on novel|revolution|dystopia|sequel|dyst...</td>\n",
       "      <td>Beatrice Prior must confront her inner demons ...</td>\n",
       "      <td>119</td>\n",
       "      <td>Adventure|Science Fiction|Thriller</td>\n",
       "      <td>Summit Entertainment|Mandeville Films|Red Wago...</td>\n",
       "      <td>3/18/15</td>\n",
       "      <td>2480</td>\n",
       "      <td>6.3</td>\n",
       "      <td>2015</td>\n",
       "      <td>1.012000e+08</td>\n",
       "      <td>2.716190e+08</td>\n",
       "    </tr>\n",
       "    <tr>\n",
       "      <th>Star Wars: The Force Awakens</th>\n",
       "      <td>140607</td>\n",
       "      <td>tt2488496</td>\n",
       "      <td>11.173104</td>\n",
       "      <td>200000000</td>\n",
       "      <td>2068178225</td>\n",
       "      <td>Harrison Ford|Mark Hamill|Carrie Fisher|Adam D...</td>\n",
       "      <td>http://www.starwars.com/films/star-wars-episod...</td>\n",
       "      <td>J.J. Abrams</td>\n",
       "      <td>Every generation has a story.</td>\n",
       "      <td>android|spaceship|jedi|space opera|3d</td>\n",
       "      <td>Thirty years after defeating the Galactic Empi...</td>\n",
       "      <td>136</td>\n",
       "      <td>Action|Adventure|Science Fiction|Fantasy</td>\n",
       "      <td>Lucasfilm|Truenorth Productions|Bad Robot</td>\n",
       "      <td>12/15/15</td>\n",
       "      <td>5292</td>\n",
       "      <td>7.5</td>\n",
       "      <td>2015</td>\n",
       "      <td>1.839999e+08</td>\n",
       "      <td>1.902723e+09</td>\n",
       "    </tr>\n",
       "    <tr>\n",
       "      <th>Furious 7</th>\n",
       "      <td>168259</td>\n",
       "      <td>tt2820852</td>\n",
       "      <td>9.335014</td>\n",
       "      <td>190000000</td>\n",
       "      <td>1506249360</td>\n",
       "      <td>Vin Diesel|Paul Walker|Jason Statham|Michelle ...</td>\n",
       "      <td>http://www.furious7.com/</td>\n",
       "      <td>James Wan</td>\n",
       "      <td>Vengeance Hits Home</td>\n",
       "      <td>car race|speed|revenge|suspense|car</td>\n",
       "      <td>Deckard Shaw seeks revenge against Dominic Tor...</td>\n",
       "      <td>137</td>\n",
       "      <td>Action|Crime|Thriller</td>\n",
       "      <td>Universal Pictures|Original Film|Media Rights ...</td>\n",
       "      <td>4/1/15</td>\n",
       "      <td>2947</td>\n",
       "      <td>7.3</td>\n",
       "      <td>2015</td>\n",
       "      <td>1.747999e+08</td>\n",
       "      <td>1.385749e+09</td>\n",
       "    </tr>\n",
       "  </tbody>\n",
       "</table>\n",
       "</div>"
      ],
      "text/plain": [
       "                                  id    imdb_id  popularity     budget  \\\n",
       "original_title                                                           \n",
       "Jurassic World                135397  tt0369610   32.985763  150000000   \n",
       "Mad Max: Fury Road             76341  tt1392190   28.419936  150000000   \n",
       "Insurgent                     262500  tt2908446   13.112507  110000000   \n",
       "Star Wars: The Force Awakens  140607  tt2488496   11.173104  200000000   \n",
       "Furious 7                     168259  tt2820852    9.335014  190000000   \n",
       "\n",
       "                                 revenue  \\\n",
       "original_title                             \n",
       "Jurassic World                1513528810   \n",
       "Mad Max: Fury Road             378436354   \n",
       "Insurgent                      295238201   \n",
       "Star Wars: The Force Awakens  2068178225   \n",
       "Furious 7                     1506249360   \n",
       "\n",
       "                                                                           cast  \\\n",
       "original_title                                                                    \n",
       "Jurassic World                Chris Pratt|Bryce Dallas Howard|Irrfan Khan|Vi...   \n",
       "Mad Max: Fury Road            Tom Hardy|Charlize Theron|Hugh Keays-Byrne|Nic...   \n",
       "Insurgent                     Shailene Woodley|Theo James|Kate Winslet|Ansel...   \n",
       "Star Wars: The Force Awakens  Harrison Ford|Mark Hamill|Carrie Fisher|Adam D...   \n",
       "Furious 7                     Vin Diesel|Paul Walker|Jason Statham|Michelle ...   \n",
       "\n",
       "                                                                       homepage  \\\n",
       "original_title                                                                    \n",
       "Jurassic World                                    http://www.jurassicworld.com/   \n",
       "Mad Max: Fury Road                                  http://www.madmaxmovie.com/   \n",
       "Insurgent                        http://www.thedivergentseries.movie/#insurgent   \n",
       "Star Wars: The Force Awakens  http://www.starwars.com/films/star-wars-episod...   \n",
       "Furious 7                                              http://www.furious7.com/   \n",
       "\n",
       "                                      director                        tagline  \\\n",
       "original_title                                                                  \n",
       "Jurassic World                 Colin Trevorrow              The park is open.   \n",
       "Mad Max: Fury Road               George Miller             What a Lovely Day.   \n",
       "Insurgent                     Robert Schwentke     One Choice Can Destroy You   \n",
       "Star Wars: The Force Awakens       J.J. Abrams  Every generation has a story.   \n",
       "Furious 7                            James Wan            Vengeance Hits Home   \n",
       "\n",
       "                                                                       keywords  \\\n",
       "original_title                                                                    \n",
       "Jurassic World                monster|dna|tyrannosaurus rex|velociraptor|island   \n",
       "Mad Max: Fury Road             future|chase|post-apocalyptic|dystopia|australia   \n",
       "Insurgent                     based on novel|revolution|dystopia|sequel|dyst...   \n",
       "Star Wars: The Force Awakens              android|spaceship|jedi|space opera|3d   \n",
       "Furious 7                                   car race|speed|revenge|suspense|car   \n",
       "\n",
       "                                                                       overview  \\\n",
       "original_title                                                                    \n",
       "Jurassic World                Twenty-two years after the events of Jurassic ...   \n",
       "Mad Max: Fury Road            An apocalyptic story set in the furthest reach...   \n",
       "Insurgent                     Beatrice Prior must confront her inner demons ...   \n",
       "Star Wars: The Force Awakens  Thirty years after defeating the Galactic Empi...   \n",
       "Furious 7                     Deckard Shaw seeks revenge against Dominic Tor...   \n",
       "\n",
       "                              runtime  \\\n",
       "original_title                          \n",
       "Jurassic World                    124   \n",
       "Mad Max: Fury Road                120   \n",
       "Insurgent                         119   \n",
       "Star Wars: The Force Awakens      136   \n",
       "Furious 7                         137   \n",
       "\n",
       "                                                                 genres  \\\n",
       "original_title                                                            \n",
       "Jurassic World                Action|Adventure|Science Fiction|Thriller   \n",
       "Mad Max: Fury Road            Action|Adventure|Science Fiction|Thriller   \n",
       "Insurgent                            Adventure|Science Fiction|Thriller   \n",
       "Star Wars: The Force Awakens   Action|Adventure|Science Fiction|Fantasy   \n",
       "Furious 7                                         Action|Crime|Thriller   \n",
       "\n",
       "                                                           production_companies  \\\n",
       "original_title                                                                    \n",
       "Jurassic World                Universal Studios|Amblin Entertainment|Legenda...   \n",
       "Mad Max: Fury Road            Village Roadshow Pictures|Kennedy Miller Produ...   \n",
       "Insurgent                     Summit Entertainment|Mandeville Films|Red Wago...   \n",
       "Star Wars: The Force Awakens          Lucasfilm|Truenorth Productions|Bad Robot   \n",
       "Furious 7                     Universal Pictures|Original Film|Media Rights ...   \n",
       "\n",
       "                             release_date  vote_count  vote_average  \\\n",
       "original_title                                                        \n",
       "Jurassic World                     6/9/15        5562           6.5   \n",
       "Mad Max: Fury Road                5/13/15        6185           7.1   \n",
       "Insurgent                         3/18/15        2480           6.3   \n",
       "Star Wars: The Force Awakens     12/15/15        5292           7.5   \n",
       "Furious 7                          4/1/15        2947           7.3   \n",
       "\n",
       "                              release_year    budget_adj   revenue_adj  \n",
       "original_title                                                          \n",
       "Jurassic World                        2015  1.379999e+08  1.392446e+09  \n",
       "Mad Max: Fury Road                    2015  1.379999e+08  3.481613e+08  \n",
       "Insurgent                             2015  1.012000e+08  2.716190e+08  \n",
       "Star Wars: The Force Awakens          2015  1.839999e+08  1.902723e+09  \n",
       "Furious 7                             2015  1.747999e+08  1.385749e+09  "
      ]
     },
     "execution_count": 3,
     "metadata": {},
     "output_type": "execute_result"
    }
   ],
   "source": [
    "df= ps.read_csv('tmdb-movies.csv', index_col='original_title')\n",
    "df.head()\n"
   ]
  },
  {
   "cell_type": "markdown",
   "metadata": {},
   "source": [
    "I used the read_csv to load the data file, then used the\n",
    "column 'original_title' as an Index for this data since I believe movies are better navigated using their titles.\n",
    "after that I used 'head()' to load the first 5 rows of data"
   ]
  },
  {
   "cell_type": "code",
   "execution_count": 4,
   "metadata": {
    "scrolled": true
   },
   "outputs": [
    {
     "data": {
      "text/plain": [
       "Index(['id', 'imdb_id', 'popularity', 'budget', 'revenue', 'cast', 'homepage',\n",
       "       'director', 'tagline', 'keywords', 'overview', 'runtime', 'genres',\n",
       "       'production_companies', 'release_date', 'vote_count', 'vote_average',\n",
       "       'release_year', 'budget_adj', 'revenue_adj'],\n",
       "      dtype='object')"
      ]
     },
     "execution_count": 4,
     "metadata": {},
     "output_type": "execute_result"
    }
   ],
   "source": [
    "df.columns"
   ]
  },
  {
   "cell_type": "markdown",
   "metadata": {},
   "source": [
    "I checked the column names using 'columns' because some of the columns didn't make it in the 'head()' order. I believe there is few columns that can be dropped out and one to be edited for better understanding, that will be the 'runtime' column."
   ]
  },
  {
   "cell_type": "code",
   "execution_count": 5,
   "metadata": {},
   "outputs": [
    {
     "data": {
      "text/plain": [
       "id                        int64\n",
       "imdb_id                  object\n",
       "popularity              float64\n",
       "budget                    int64\n",
       "revenue                   int64\n",
       "cast                     object\n",
       "homepage                 object\n",
       "director                 object\n",
       "tagline                  object\n",
       "keywords                 object\n",
       "overview                 object\n",
       "runtime                   int64\n",
       "genres                   object\n",
       "production_companies     object\n",
       "release_date             object\n",
       "vote_count                int64\n",
       "vote_average            float64\n",
       "release_year              int64\n",
       "budget_adj              float64\n",
       "revenue_adj             float64\n",
       "dtype: object"
      ]
     },
     "execution_count": 5,
     "metadata": {},
     "output_type": "execute_result"
    }
   ],
   "source": [
    "df.dtypes"
   ]
  },
  {
   "cell_type": "code",
   "execution_count": 6,
   "metadata": {},
   "outputs": [
    {
     "data": {
      "text/plain": [
       "id                      10865\n",
       "imdb_id                 10855\n",
       "popularity              10814\n",
       "budget                    557\n",
       "revenue                  4702\n",
       "cast                    10719\n",
       "homepage                 2896\n",
       "director                 5067\n",
       "tagline                  7997\n",
       "keywords                 8804\n",
       "overview                10847\n",
       "runtime                   247\n",
       "genres                   2039\n",
       "production_companies     7445\n",
       "release_date             5909\n",
       "vote_count               1289\n",
       "vote_average               72\n",
       "release_year               56\n",
       "budget_adj               2614\n",
       "revenue_adj              4840\n",
       "dtype: int64"
      ]
     },
     "execution_count": 6,
     "metadata": {},
     "output_type": "execute_result"
    }
   ],
   "source": [
    "df.nunique()"
   ]
  },
  {
   "cell_type": "code",
   "execution_count": 7,
   "metadata": {
    "scrolled": true
   },
   "outputs": [
    {
     "name": "stdout",
     "output_type": "stream",
     "text": [
      "<class 'pandas.core.frame.DataFrame'>\n",
      "Index: 10866 entries, Jurassic World to Manos: The Hands of Fate\n",
      "Data columns (total 20 columns):\n",
      "id                      10866 non-null int64\n",
      "imdb_id                 10856 non-null object\n",
      "popularity              10866 non-null float64\n",
      "budget                  10866 non-null int64\n",
      "revenue                 10866 non-null int64\n",
      "cast                    10790 non-null object\n",
      "homepage                2936 non-null object\n",
      "director                10822 non-null object\n",
      "tagline                 8042 non-null object\n",
      "keywords                9373 non-null object\n",
      "overview                10862 non-null object\n",
      "runtime                 10866 non-null int64\n",
      "genres                  10843 non-null object\n",
      "production_companies    9836 non-null object\n",
      "release_date            10866 non-null object\n",
      "vote_count              10866 non-null int64\n",
      "vote_average            10866 non-null float64\n",
      "release_year            10866 non-null int64\n",
      "budget_adj              10866 non-null float64\n",
      "revenue_adj             10866 non-null float64\n",
      "dtypes: float64(4), int64(6), object(10)\n",
      "memory usage: 1.7+ MB\n"
     ]
    }
   ],
   "source": [
    "df.info()"
   ]
  },
  {
   "cell_type": "code",
   "execution_count": 8,
   "metadata": {},
   "outputs": [
    {
     "data": {
      "text/plain": [
       "1"
      ]
     },
     "execution_count": 8,
     "metadata": {},
     "output_type": "execute_result"
    }
   ],
   "source": [
    "df.duplicated().sum()"
   ]
  },
  {
   "cell_type": "code",
   "execution_count": 9,
   "metadata": {},
   "outputs": [
    {
     "data": {
      "text/html": [
       "<div>\n",
       "<style scoped>\n",
       "    .dataframe tbody tr th:only-of-type {\n",
       "        vertical-align: middle;\n",
       "    }\n",
       "\n",
       "    .dataframe tbody tr th {\n",
       "        vertical-align: top;\n",
       "    }\n",
       "\n",
       "    .dataframe thead th {\n",
       "        text-align: right;\n",
       "    }\n",
       "</style>\n",
       "<table border=\"1\" class=\"dataframe\">\n",
       "  <thead>\n",
       "    <tr style=\"text-align: right;\">\n",
       "      <th></th>\n",
       "      <th>id</th>\n",
       "      <th>popularity</th>\n",
       "      <th>budget</th>\n",
       "      <th>revenue</th>\n",
       "      <th>runtime</th>\n",
       "      <th>vote_count</th>\n",
       "      <th>vote_average</th>\n",
       "      <th>release_year</th>\n",
       "      <th>budget_adj</th>\n",
       "      <th>revenue_adj</th>\n",
       "    </tr>\n",
       "  </thead>\n",
       "  <tbody>\n",
       "    <tr>\n",
       "      <th>count</th>\n",
       "      <td>10866.000000</td>\n",
       "      <td>10866.000000</td>\n",
       "      <td>1.086600e+04</td>\n",
       "      <td>1.086600e+04</td>\n",
       "      <td>10866.000000</td>\n",
       "      <td>10866.000000</td>\n",
       "      <td>10866.000000</td>\n",
       "      <td>10866.000000</td>\n",
       "      <td>1.086600e+04</td>\n",
       "      <td>1.086600e+04</td>\n",
       "    </tr>\n",
       "    <tr>\n",
       "      <th>mean</th>\n",
       "      <td>66064.177434</td>\n",
       "      <td>0.646441</td>\n",
       "      <td>1.462570e+07</td>\n",
       "      <td>3.982332e+07</td>\n",
       "      <td>102.070863</td>\n",
       "      <td>217.389748</td>\n",
       "      <td>5.974922</td>\n",
       "      <td>2001.322658</td>\n",
       "      <td>1.755104e+07</td>\n",
       "      <td>5.136436e+07</td>\n",
       "    </tr>\n",
       "    <tr>\n",
       "      <th>std</th>\n",
       "      <td>92130.136561</td>\n",
       "      <td>1.000185</td>\n",
       "      <td>3.091321e+07</td>\n",
       "      <td>1.170035e+08</td>\n",
       "      <td>31.381405</td>\n",
       "      <td>575.619058</td>\n",
       "      <td>0.935142</td>\n",
       "      <td>12.812941</td>\n",
       "      <td>3.430616e+07</td>\n",
       "      <td>1.446325e+08</td>\n",
       "    </tr>\n",
       "    <tr>\n",
       "      <th>min</th>\n",
       "      <td>5.000000</td>\n",
       "      <td>0.000065</td>\n",
       "      <td>0.000000e+00</td>\n",
       "      <td>0.000000e+00</td>\n",
       "      <td>0.000000</td>\n",
       "      <td>10.000000</td>\n",
       "      <td>1.500000</td>\n",
       "      <td>1960.000000</td>\n",
       "      <td>0.000000e+00</td>\n",
       "      <td>0.000000e+00</td>\n",
       "    </tr>\n",
       "    <tr>\n",
       "      <th>25%</th>\n",
       "      <td>10596.250000</td>\n",
       "      <td>0.207583</td>\n",
       "      <td>0.000000e+00</td>\n",
       "      <td>0.000000e+00</td>\n",
       "      <td>90.000000</td>\n",
       "      <td>17.000000</td>\n",
       "      <td>5.400000</td>\n",
       "      <td>1995.000000</td>\n",
       "      <td>0.000000e+00</td>\n",
       "      <td>0.000000e+00</td>\n",
       "    </tr>\n",
       "    <tr>\n",
       "      <th>50%</th>\n",
       "      <td>20669.000000</td>\n",
       "      <td>0.383856</td>\n",
       "      <td>0.000000e+00</td>\n",
       "      <td>0.000000e+00</td>\n",
       "      <td>99.000000</td>\n",
       "      <td>38.000000</td>\n",
       "      <td>6.000000</td>\n",
       "      <td>2006.000000</td>\n",
       "      <td>0.000000e+00</td>\n",
       "      <td>0.000000e+00</td>\n",
       "    </tr>\n",
       "    <tr>\n",
       "      <th>75%</th>\n",
       "      <td>75610.000000</td>\n",
       "      <td>0.713817</td>\n",
       "      <td>1.500000e+07</td>\n",
       "      <td>2.400000e+07</td>\n",
       "      <td>111.000000</td>\n",
       "      <td>145.750000</td>\n",
       "      <td>6.600000</td>\n",
       "      <td>2011.000000</td>\n",
       "      <td>2.085325e+07</td>\n",
       "      <td>3.369710e+07</td>\n",
       "    </tr>\n",
       "    <tr>\n",
       "      <th>max</th>\n",
       "      <td>417859.000000</td>\n",
       "      <td>32.985763</td>\n",
       "      <td>4.250000e+08</td>\n",
       "      <td>2.781506e+09</td>\n",
       "      <td>900.000000</td>\n",
       "      <td>9767.000000</td>\n",
       "      <td>9.200000</td>\n",
       "      <td>2015.000000</td>\n",
       "      <td>4.250000e+08</td>\n",
       "      <td>2.827124e+09</td>\n",
       "    </tr>\n",
       "  </tbody>\n",
       "</table>\n",
       "</div>"
      ],
      "text/plain": [
       "                  id    popularity        budget       revenue       runtime  \\\n",
       "count   10866.000000  10866.000000  1.086600e+04  1.086600e+04  10866.000000   \n",
       "mean    66064.177434      0.646441  1.462570e+07  3.982332e+07    102.070863   \n",
       "std     92130.136561      1.000185  3.091321e+07  1.170035e+08     31.381405   \n",
       "min         5.000000      0.000065  0.000000e+00  0.000000e+00      0.000000   \n",
       "25%     10596.250000      0.207583  0.000000e+00  0.000000e+00     90.000000   \n",
       "50%     20669.000000      0.383856  0.000000e+00  0.000000e+00     99.000000   \n",
       "75%     75610.000000      0.713817  1.500000e+07  2.400000e+07    111.000000   \n",
       "max    417859.000000     32.985763  4.250000e+08  2.781506e+09    900.000000   \n",
       "\n",
       "         vote_count  vote_average  release_year    budget_adj   revenue_adj  \n",
       "count  10866.000000  10866.000000  10866.000000  1.086600e+04  1.086600e+04  \n",
       "mean     217.389748      5.974922   2001.322658  1.755104e+07  5.136436e+07  \n",
       "std      575.619058      0.935142     12.812941  3.430616e+07  1.446325e+08  \n",
       "min       10.000000      1.500000   1960.000000  0.000000e+00  0.000000e+00  \n",
       "25%       17.000000      5.400000   1995.000000  0.000000e+00  0.000000e+00  \n",
       "50%       38.000000      6.000000   2006.000000  0.000000e+00  0.000000e+00  \n",
       "75%      145.750000      6.600000   2011.000000  2.085325e+07  3.369710e+07  \n",
       "max     9767.000000      9.200000   2015.000000  4.250000e+08  2.827124e+09  "
      ]
     },
     "execution_count": 9,
     "metadata": {},
     "output_type": "execute_result"
    }
   ],
   "source": [
    "df.describe()"
   ]
  },
  {
   "cell_type": "markdown",
   "metadata": {},
   "source": [
    "After exploring the data there is:\n",
    "1-Two columns types that need to be converted from int to float.\n",
    "2-One row that is duplicated.\n",
    "3-there is great number of rows with values that are equal to zero in the Revenue and Budget columns.\n",
    "4-Some values in runtime are equal zero.\n",
    "5-Some null values are present in other non numerical rows.\n",
    "6-the cast and genres columns have the pipe'|' between names."
   ]
  },
  {
   "cell_type": "markdown",
   "metadata": {},
   "source": [
    "\n",
    "\n",
    "### Data Cleaning: \n",
    "Next Step is dealing with previously noted problems"
   ]
  },
  {
   "cell_type": "code",
   "execution_count": 10,
   "metadata": {
    "scrolled": true
   },
   "outputs": [
    {
     "name": "stdout",
     "output_type": "stream",
     "text": [
      "                   id    imdb_id  popularity    budget  revenue  \\\n",
      "original_title                                                    \n",
      "TEKKEN          42194  tt0411951     0.59643  30000000   967000   \n",
      "\n",
      "                                                             cast homepage  \\\n",
      "original_title                                                               \n",
      "TEKKEN          Jon Foo|Kelly Overton|Cary-Hiroyuki Tagawa|Ian...      NaN   \n",
      "\n",
      "                        director              tagline  \\\n",
      "original_title                                          \n",
      "TEKKEN          Dwight H. Little  Survival is no game   \n",
      "\n",
      "                                                         keywords  \\\n",
      "original_title                                                      \n",
      "TEKKEN          martial arts|dystopia|based on video game|mart...   \n",
      "\n",
      "                                                         overview  runtime  \\\n",
      "original_title                                                               \n",
      "TEKKEN          In the year of 2039, after World Wars destroy ...       92   \n",
      "\n",
      "                                                     genres  \\\n",
      "original_title                                                \n",
      "TEKKEN          Crime|Drama|Action|Thriller|Science Fiction   \n",
      "\n",
      "                  production_companies release_date  vote_count  vote_average  \\\n",
      "original_title                                                                  \n",
      "TEKKEN          Namco|Light Song Films      3/20/10         110           5.0   \n",
      "\n",
      "                release_year  budget_adj  revenue_adj  \n",
      "original_title                                         \n",
      "TEKKEN                  2010  30000000.0     967000.0  \n"
     ]
    }
   ],
   "source": [
    "# After discussing the structure of the data and any problems that need to be\n",
    "#   cleaned, perform those cleaning steps in the second part of this section.\n",
    "dupldf=df[df.duplicated()]\n",
    "print(dupldf)"
   ]
  },
  {
   "cell_type": "markdown",
   "metadata": {},
   "source": [
    "I used 'dupldf' to explore which rows are duplicated and it turned out to be the 'Tekken' movie rows"
   ]
  },
  {
   "cell_type": "code",
   "execution_count": 11,
   "metadata": {},
   "outputs": [
    {
     "data": {
      "text/plain": [
       "0"
      ]
     },
     "execution_count": 11,
     "metadata": {},
     "output_type": "execute_result"
    }
   ],
   "source": [
    "df.drop_duplicates(inplace=True)\n",
    "df.duplicated().sum()"
   ]
  },
  {
   "cell_type": "markdown",
   "metadata": {},
   "source": [
    "Now I used the drop_duplicates to remove the duplicatd rows and checked the data again to know if duplicates rows are removed"
   ]
  },
  {
   "cell_type": "code",
   "execution_count": 12,
   "metadata": {},
   "outputs": [
    {
     "data": {
      "text/html": [
       "<div>\n",
       "<style scoped>\n",
       "    .dataframe tbody tr th:only-of-type {\n",
       "        vertical-align: middle;\n",
       "    }\n",
       "\n",
       "    .dataframe tbody tr th {\n",
       "        vertical-align: top;\n",
       "    }\n",
       "\n",
       "    .dataframe thead th {\n",
       "        text-align: right;\n",
       "    }\n",
       "</style>\n",
       "<table border=\"1\" class=\"dataframe\">\n",
       "  <thead>\n",
       "    <tr style=\"text-align: right;\">\n",
       "      <th></th>\n",
       "      <th>id</th>\n",
       "      <th>imdb_id</th>\n",
       "      <th>popularity</th>\n",
       "      <th>budget</th>\n",
       "      <th>revenue</th>\n",
       "      <th>cast</th>\n",
       "      <th>director</th>\n",
       "      <th>runtime</th>\n",
       "      <th>genres</th>\n",
       "      <th>production_companies</th>\n",
       "      <th>release_date</th>\n",
       "      <th>vote_count</th>\n",
       "      <th>vote_average</th>\n",
       "      <th>release_year</th>\n",
       "      <th>budget_adj</th>\n",
       "      <th>revenue_adj</th>\n",
       "    </tr>\n",
       "    <tr>\n",
       "      <th>original_title</th>\n",
       "      <th></th>\n",
       "      <th></th>\n",
       "      <th></th>\n",
       "      <th></th>\n",
       "      <th></th>\n",
       "      <th></th>\n",
       "      <th></th>\n",
       "      <th></th>\n",
       "      <th></th>\n",
       "      <th></th>\n",
       "      <th></th>\n",
       "      <th></th>\n",
       "      <th></th>\n",
       "      <th></th>\n",
       "      <th></th>\n",
       "      <th></th>\n",
       "    </tr>\n",
       "  </thead>\n",
       "  <tbody>\n",
       "    <tr>\n",
       "      <th>Jurassic World</th>\n",
       "      <td>135397</td>\n",
       "      <td>tt0369610</td>\n",
       "      <td>32.985763</td>\n",
       "      <td>150000000</td>\n",
       "      <td>1513528810</td>\n",
       "      <td>Chris Pratt|Bryce Dallas Howard|Irrfan Khan|Vi...</td>\n",
       "      <td>Colin Trevorrow</td>\n",
       "      <td>124</td>\n",
       "      <td>Action|Adventure|Science Fiction|Thriller</td>\n",
       "      <td>Universal Studios|Amblin Entertainment|Legenda...</td>\n",
       "      <td>6/9/15</td>\n",
       "      <td>5562</td>\n",
       "      <td>6.5</td>\n",
       "      <td>2015</td>\n",
       "      <td>1.379999e+08</td>\n",
       "      <td>1.392446e+09</td>\n",
       "    </tr>\n",
       "  </tbody>\n",
       "</table>\n",
       "</div>"
      ],
      "text/plain": [
       "                    id    imdb_id  popularity     budget     revenue  \\\n",
       "original_title                                                         \n",
       "Jurassic World  135397  tt0369610   32.985763  150000000  1513528810   \n",
       "\n",
       "                                                             cast  \\\n",
       "original_title                                                      \n",
       "Jurassic World  Chris Pratt|Bryce Dallas Howard|Irrfan Khan|Vi...   \n",
       "\n",
       "                       director  runtime  \\\n",
       "original_title                             \n",
       "Jurassic World  Colin Trevorrow      124   \n",
       "\n",
       "                                                   genres  \\\n",
       "original_title                                              \n",
       "Jurassic World  Action|Adventure|Science Fiction|Thriller   \n",
       "\n",
       "                                             production_companies  \\\n",
       "original_title                                                      \n",
       "Jurassic World  Universal Studios|Amblin Entertainment|Legenda...   \n",
       "\n",
       "               release_date  vote_count  vote_average  release_year  \\\n",
       "original_title                                                        \n",
       "Jurassic World       6/9/15        5562           6.5          2015   \n",
       "\n",
       "                  budget_adj   revenue_adj  \n",
       "original_title                              \n",
       "Jurassic World  1.379999e+08  1.392446e+09  "
      ]
     },
     "execution_count": 12,
     "metadata": {},
     "output_type": "execute_result"
    }
   ],
   "source": [
    "df.drop(['homepage','tagline', 'keywords', 'overview',], axis=1, inplace=True)\n",
    "df.head(1)"
   ]
  },
  {
   "cell_type": "code",
   "execution_count": 13,
   "metadata": {},
   "outputs": [
    {
     "data": {
      "text/plain": [
       "['id',\n",
       " 'imdb_id',\n",
       " 'popularity',\n",
       " 'budget',\n",
       " 'revenue',\n",
       " 'cast',\n",
       " 'director',\n",
       " 'runtime_in_minutes',\n",
       " 'genres',\n",
       " 'production_companies',\n",
       " 'release_date',\n",
       " 'vote_count',\n",
       " 'vote_average',\n",
       " 'release_year',\n",
       " 'budget_adj',\n",
       " 'revenue_adj']"
      ]
     },
     "execution_count": 13,
     "metadata": {},
     "output_type": "execute_result"
    }
   ],
   "source": [
    "newl = []\n",
    "for col in df.columns:\n",
    "    if 'runtime' in col:\n",
    "        newl.append(col+'_in_minutes')\n",
    "    else:\n",
    "        newl.append(col)\n",
    "newl"
   ]
  },
  {
   "cell_type": "code",
   "execution_count": 14,
   "metadata": {},
   "outputs": [],
   "source": [
    "df.columns=newl"
   ]
  },
  {
   "cell_type": "markdown",
   "metadata": {},
   "source": [
    "I had to rename the 'runtime' column to 'runtime in minutes' to make the values more clear."
   ]
  },
  {
   "cell_type": "code",
   "execution_count": 15,
   "metadata": {},
   "outputs": [
    {
     "name": "stdout",
     "output_type": "stream",
     "text": [
      "<class 'pandas.core.frame.DataFrame'>\n",
      "Index: 10865 entries, Jurassic World to Manos: The Hands of Fate\n",
      "Data columns (total 16 columns):\n",
      "id                      10865 non-null int64\n",
      "imdb_id                 10865 non-null object\n",
      "popularity              10865 non-null float64\n",
      "budget                  10865 non-null int64\n",
      "revenue                 10865 non-null int64\n",
      "cast                    10865 non-null object\n",
      "director                10865 non-null object\n",
      "runtime_in_minutes      10865 non-null int64\n",
      "genres                  10865 non-null object\n",
      "production_companies    10865 non-null object\n",
      "release_date            10865 non-null object\n",
      "vote_count              10865 non-null int64\n",
      "vote_average            10865 non-null float64\n",
      "release_year            10865 non-null int64\n",
      "budget_adj              10865 non-null float64\n",
      "revenue_adj             10865 non-null float64\n",
      "dtypes: float64(4), int64(6), object(6)\n",
      "memory usage: 1.4+ MB\n"
     ]
    }
   ],
   "source": [
    "df.production_companies.fillna('Company name is not available', inplace=True)\n",
    "df.imdb_id.fillna('IMDB ID is not assigned', inplace=True)\n",
    "df.cast.fillna('Cast names are not available', inplace=True)\n",
    "df.director.fillna('Director name is not available', inplace=True)\n",
    "df.genres.fillna('Genres are not available for this movie', inplace=True)\n",
    "df.info()\n"
   ]
  },
  {
   "cell_type": "markdown",
   "metadata": {},
   "source": [
    "Here I used 'fillna' to fill columns with non values using appropriate words since all of them are string columns"
   ]
  },
  {
   "cell_type": "code",
   "execution_count": 16,
   "metadata": {},
   "outputs": [
    {
     "data": {
      "text/plain": [
       "numpy.float64"
      ]
     },
     "execution_count": 16,
     "metadata": {},
     "output_type": "execute_result"
    }
   ],
   "source": [
    "df['budget']=df['budget'].astype(float)\n",
    "df['revenue']=df['revenue'].astype(float)\n",
    "type(df['budget'][0])\n",
    "type(df['revenue'][0])\n"
   ]
  },
  {
   "cell_type": "markdown",
   "metadata": {},
   "source": [
    "I changed the data types in both 'budget' and 'revenue' columns from int to float and checked them out using the type function"
   ]
  },
  {
   "cell_type": "code",
   "execution_count": 17,
   "metadata": {},
   "outputs": [],
   "source": [
    "drop_zero = df[df['budget'] == 0].index \n",
    "df.drop(drop_zero , inplace=True)"
   ]
  },
  {
   "cell_type": "code",
   "execution_count": 18,
   "metadata": {},
   "outputs": [],
   "source": [
    "drop_zero = df[df['revenue'] == 0].index \n",
    "df.drop(drop_zero , inplace=True)"
   ]
  },
  {
   "cell_type": "code",
   "execution_count": 19,
   "metadata": {
    "scrolled": true
   },
   "outputs": [],
   "source": [
    "drop_zero = df[df['runtime_in_minutes'] == 0].index \n",
    "df.drop(drop_zero , inplace=True)"
   ]
  },
  {
   "cell_type": "code",
   "execution_count": 20,
   "metadata": {},
   "outputs": [
    {
     "name": "stdout",
     "output_type": "stream",
     "text": [
      "<class 'pandas.core.frame.DataFrame'>\n",
      "Index: 3703 entries, Jurassic World to Fantastic Voyage\n",
      "Data columns (total 16 columns):\n",
      "id                      3703 non-null int64\n",
      "imdb_id                 3703 non-null object\n",
      "popularity              3703 non-null float64\n",
      "budget                  3703 non-null float64\n",
      "revenue                 3703 non-null float64\n",
      "cast                    3703 non-null object\n",
      "director                3703 non-null object\n",
      "runtime_in_minutes      3703 non-null int64\n",
      "genres                  3703 non-null object\n",
      "production_companies    3703 non-null object\n",
      "release_date            3703 non-null object\n",
      "vote_count              3703 non-null int64\n",
      "vote_average            3703 non-null float64\n",
      "release_year            3703 non-null int64\n",
      "budget_adj              3703 non-null float64\n",
      "revenue_adj             3703 non-null float64\n",
      "dtypes: float64(6), int64(4), object(6)\n",
      "memory usage: 491.8+ KB\n"
     ]
    }
   ],
   "source": [
    "df.info()"
   ]
  },
  {
   "cell_type": "markdown",
   "metadata": {},
   "source": [
    "Obviously enough, dropping rows based on three columns with zero values made a great reduction on data to be processed. This was a neccessary evil since huge portion of zero or null values will make data more skewed as said by mentors in udacity. "
   ]
  },
  {
   "cell_type": "markdown",
   "metadata": {},
   "source": [
    "<a id='eda'></a>\n",
    "## Exploratory Data Analysis\n",
    "\n",
    "Now That I finished cleaning the data let's move to the next step of this report which is working the questions suggested earlier\n",
    "### The Popularity vs Various Factors that affect it"
   ]
  },
  {
   "cell_type": "code",
   "execution_count": 21,
   "metadata": {},
   "outputs": [
    {
     "data": {
      "image/png": "[encoded data removed]",
      "text/plain": [
       "<matplotlib.figure.Figure at 0x7fb0f15617b8>"
      ]
     },
     "metadata": {
      "needs_background": "light"
     },
     "output_type": "display_data"
    }
   ],
   "source": [
    "df.hist(figsize=(12,12));"
   ]
  },
  {
   "cell_type": "code",
   "execution_count": 22,
   "metadata": {
    "scrolled": true
   },
   "outputs": [
    {
     "data": {
      "text/plain": [
       "Text(0,0.5,'Popularity')"
      ]
     },
     "execution_count": 22,
     "metadata": {},
     "output_type": "execute_result"
    },
    {
     "data": {
      "image/png": "[encoded data removed]",
      "text/plain": [
       "<matplotlib.figure.Figure at 0x7fb0f107a9e8>"
      ]
     },
     "metadata": {
      "needs_background": "light"
     },
     "output_type": "display_data"
    }
   ],
   "source": [
    "dfpy= df.groupby('release_year')['popularity'].mean()\n",
    "dfpy.plot(title='Popularity in every year', figsize=(10,4))\n",
    "#dfpy is df for popularity and release year\n",
    "plt.xlabel('Year')\n",
    "plt.ylabel('Popularity')"
   ]
  },
  {
   "cell_type": "code",
   "execution_count": 46,
   "metadata": {},
   "outputs": [
    {
     "data": {
      "text/plain": [
       "Text(0.5,1,'Popularity vs Year of Release')"
      ]
     },
     "execution_count": 46,
     "metadata": {},
     "output_type": "execute_result"
    },
    {
     "data": {
      "image/png": "[encoded data removed]",
      "text/plain": [
       "<matplotlib.figure.Figure at 0x7fb0ebb74cf8>"
      ]
     },
     "metadata": {
      "needs_background": "light"
     },
     "output_type": "display_data"
    }
   ],
   "source": [
    "sns.lmplot(x='release_year',y='popularity', data=df,fit_reg=True) \n",
    "plt.title('Popularity vs Year of Release')"
   ]
  },
  {
   "cell_type": "markdown",
   "metadata": {},
   "source": [
    "A fluctuation in popularity kept occuring through the years untill after 2010 where the trend rised to never reached levels. This can be due to general increase in budgets along with other factors"
   ]
  },
  {
   "cell_type": "code",
   "execution_count": 22,
   "metadata": {},
   "outputs": [],
   "source": [
    "def level(column_name):\n",
    "    min_value=df[column_name].min()\n",
    "    first_quantile=df[column_name].quantile(0.25)\n",
    "    second_quantile=df[column_name].quantile(0.5)\n",
    "    third_quantile=df[column_name].quantile(0.75)\n",
    "    max_value=df[column_name].max()\n",
    "    bin_edges=[min_value, first_quantile, second_quantile, third_quantile, max_value]\n",
    "    bin_names=['low','medium','mod_high','high']\n",
    "    return ps.cut(df[column_name], bin_edges, labels=bin_names)                                 \n"
   ]
  },
  {
   "cell_type": "markdown",
   "metadata": {},
   "source": [
    "using this function I found on GitHub I can quantile values from budget, revenue, and runtime so it can be compared with popularity"
   ]
  },
  {
   "cell_type": "code",
   "execution_count": 23,
   "metadata": {},
   "outputs": [],
   "source": [
    "df['budget_level']=level('budget')"
   ]
  },
  {
   "cell_type": "code",
   "execution_count": 24,
   "metadata": {},
   "outputs": [
    {
     "data": {
      "text/plain": [
       "Text(0.5,1,'Popularity vs. Budget')"
      ]
     },
     "execution_count": 24,
     "metadata": {},
     "output_type": "execute_result"
    },
    {
     "data": {
      "image/png": "[encoded data removed]",
      "text/plain": [
       "<matplotlib.figure.Figure at 0x7f3781886828>"
      ]
     },
     "metadata": {
      "needs_background": "light"
     },
     "output_type": "display_data"
    }
   ],
   "source": [
    "dfpb=df.groupby('budget_level')['popularity'].mean()\n",
    "dfpb.plot(kind='bar',figsize=(5,4))\n",
    "#dfpb is df for popularity and budget\n",
    "plt.xlabel('budget_level',fontsize=15)\n",
    "plt.ylabel('popularity',fontsize=15)\n",
    "plt.title('Popularity vs. Budget')"
   ]
  },
  {
   "cell_type": "code",
   "execution_count": 47,
   "metadata": {
    "scrolled": true
   },
   "outputs": [
    {
     "data": {
      "text/plain": [
       "Text(0.5,1,'Popularity vs Budget')"
      ]
     },
     "execution_count": 47,
     "metadata": {},
     "output_type": "execute_result"
    },
    {
     "data": {
      "image/png": "[encoded data removed]",
      "text/plain": [
       "<matplotlib.figure.Figure at 0x7fb0ebb440b8>"
      ]
     },
     "metadata": {
      "needs_background": "light"
     },
     "output_type": "display_data"
    }
   ],
   "source": [
    "sns.lmplot(x='budget',y='popularity',data=df,fit_reg=True) \n",
    "plt.title('Popularity vs Budget')"
   ]
  },
  {
   "cell_type": "markdown",
   "metadata": {},
   "source": [
    "From these graphs we can assume that budget as a factor has high impact on movies popularity since the movies with higher popularity got higher budgets, this can be due to better marketing, assets, and cast that comes with bigger budgets"
   ]
  },
  {
   "cell_type": "code",
   "execution_count": null,
   "metadata": {},
   "outputs": [],
   "source": []
  },
  {
   "cell_type": "code",
   "execution_count": 25,
   "metadata": {},
   "outputs": [],
   "source": [
    "df['revenue_level']=level('revenue')"
   ]
  },
  {
   "cell_type": "code",
   "execution_count": 26,
   "metadata": {},
   "outputs": [
    {
     "data": {
      "text/plain": [
       "Text(0.5,1,'Popularity vs. Revenue level ')"
      ]
     },
     "execution_count": 26,
     "metadata": {},
     "output_type": "execute_result"
    },
    {
     "data": {
      "image/png": "[encoded data removed]",
      "text/plain": [
       "<matplotlib.figure.Figure at 0x7f3781443208>"
      ]
     },
     "metadata": {
      "needs_background": "light"
     },
     "output_type": "display_data"
    }
   ],
   "source": [
    "dfpr=df.groupby('revenue_level')['popularity'].mean()\n",
    "dfpr.plot(kind='bar', figsize=(5,4))\n",
    "#dfpr is df for popularity vs revenue\n",
    "plt.xlabel('revenue_level',fontsize=15)\n",
    "plt.ylabel('popularity',fontsize=15)\n",
    "plt.title('Popularity vs. Revenue level ')"
   ]
  },
  {
   "cell_type": "markdown",
   "metadata": {},
   "source": [
    "Here the movie that is more popular obviously accumulated more revenue than movies that are less popular"
   ]
  },
  {
   "cell_type": "code",
   "execution_count": 27,
   "metadata": {},
   "outputs": [],
   "source": [
    "df['runtime_level']=level('runtime_in_minutes')"
   ]
  },
  {
   "cell_type": "code",
   "execution_count": 28,
   "metadata": {},
   "outputs": [
    {
     "data": {
      "image/png": "[encoded data removed]",
      "text/plain": [
       "<matplotlib.figure.Figure at 0x7f378174cb00>"
      ]
     },
     "metadata": {
      "needs_background": "light"
     },
     "output_type": "display_data"
    }
   ],
   "source": [
    "dfprt=df.groupby('runtime_level')['popularity'].mean()\n",
    "dfprt.plot(kind='bar',figsize=(5,4))\n",
    "#dfprt is df for popularity vs runtime\n",
    "plt.xlabel('runtime level',fontsize=15)\n",
    "plt.ylabel('popularity',fontsize=15)\n",
    "plt.title('Popularity at different runtimes')\n",
    "plt.show()"
   ]
  },
  {
   "cell_type": "markdown",
   "metadata": {},
   "source": [
    "Again the independent variable which is runtime here proportional to the dependent variable the popularity."
   ]
  },
  {
   "cell_type": "markdown",
   "metadata": {},
   "source": [
    "### Popular Movie Figurese vs Revenues\n",
    "\n"
   ]
  },
  {
   "cell_type": "markdown",
   "metadata": {
    "collapsed": true
   },
   "source": [
    "This time let's invistigate the relation between major genres, Casts, and directors to generated revenues and voting."
   ]
  },
  {
   "cell_type": "code",
   "execution_count": 29,
   "metadata": {
    "scrolled": true
   },
   "outputs": [
    {
     "data": {
      "text/plain": [
       "Drama              850\n",
       "Comedy             768\n",
       "Action             662\n",
       "Adventure          302\n",
       "Horror             258\n",
       "Crime              165\n",
       "Thriller           155\n",
       "Fantasy            104\n",
       "Animation           99\n",
       "Science Fiction     96\n",
       "Romance             62\n",
       "Family              38\n",
       "Mystery             33\n",
       "Documentary         32\n",
       "Music               28\n",
       "War                 19\n",
       "History             17\n",
       "Western             14\n",
       "TV Movie             1\n",
       "Name: genres, dtype: int64"
      ]
     },
     "execution_count": 29,
     "metadata": {},
     "output_type": "execute_result"
    }
   ],
   "source": [
    "df['genres']=df['genres'].str.split(\"|\",expand=True)\n",
    "df['genres'].value_counts()"
   ]
  },
  {
   "cell_type": "code",
   "execution_count": 30,
   "metadata": {
    "scrolled": false
   },
   "outputs": [
    {
     "data": {
      "image/png": "[encoded data removed]",
      "text/plain": [
       "<matplotlib.figure.Figure at 0x7f3781694080>"
      ]
     },
     "metadata": {
      "needs_background": "light"
     },
     "output_type": "display_data"
    }
   ],
   "source": [
    "df['vote_level']=level('vote_average')\n",
    "top_genres=df['genres'].value_counts().head(10).index\n",
    "df.query('genres in @ top_genres').groupby(['vote_level','genres']).size().unstack(fill_value=0).plot(kind='bar',figsize=(18,4))\n",
    "plt.xlabel('Vote Level',fontsize=15)\n",
    "plt.ylabel('Genres',fontsize=15)\n",
    "plt.title('Movie genres vs Voting Levels')\n",
    "plt.show()"
   ]
  },
  {
   "cell_type": "markdown",
   "metadata": {},
   "source": [
    "From this graph based on the 10 highest popular genres we can see that the highesT voted genres are always Action, Comedy, and Drama. while lowest voting varies between Animation, Fantasy, Science Fiction, and Thriller"
   ]
  },
  {
   "cell_type": "code",
   "execution_count": 31,
   "metadata": {
    "scrolled": true
   },
   "outputs": [
    {
     "data": {
      "text/plain": [
       "Nicolas Cage             34\n",
       "Bruce Willis             32\n",
       "Johnny Depp              30\n",
       "Sylvester Stallone       28\n",
       "Tom Hanks                28\n",
       "Arnold Schwarzenegger    26\n",
       "Robert De Niro           26\n",
       "Denzel Washington        26\n",
       "Tom Cruise               26\n",
       "Harrison Ford            23\n",
       "Jim Carrey               23\n",
       "Adam Sandler             23\n",
       "Keanu Reeves             22\n",
       "Matt Damon               21\n",
       "Eddie Murphy             21\n",
       "John Travolta            20\n",
       "Ben Stiller              20\n",
       "Robin Williams           19\n",
       "Kurt Russell             19\n",
       "Kevin Costner            19\n",
       "Mark Wahlberg            19\n",
       "Ben Affleck              18\n",
       "George Clooney           18\n",
       "Michael Douglas          18\n",
       "Clint Eastwood           18\n",
       "Sandra Bullock           17\n",
       "Brad Pitt                17\n",
       "Al Pacino                17\n",
       "Jean-Claude Van Damme    15\n",
       "Christian Bale           15\n",
       "                         ..\n",
       "James Farentino           1\n",
       "Jean Dujardin             1\n",
       "AnnaSophia Robb           1\n",
       "Odette Annable            1\n",
       "Kristy Swanson            1\n",
       "Brad Dourif               1\n",
       "Faye Dunaway              1\n",
       "Divine                    1\n",
       "Howard Stern              1\n",
       "Zana MarjanoviÄ‡          1\n",
       "Eric Freeman              1\n",
       "Jim Broadbent             1\n",
       "Annabella Sciorra         1\n",
       "Shawn Wayans              1\n",
       "Johanna Braddy            1\n",
       "Jeremy Irons              1\n",
       "Shelley Hennig            1\n",
       "Ashley Greene             1\n",
       "Ellar Coltrane            1\n",
       "Sarah Butler              1\n",
       "Louis C.K.                1\n",
       "Amy Schumer               1\n",
       "Treat Williams            1\n",
       "Julie Delpy               1\n",
       "Terence Knox              1\n",
       "Kuei Ya-Lei               1\n",
       "Ari Folman                1\n",
       "Nicholas Hope             1\n",
       "Brad Davis                1\n",
       "Scott Mechlowicz          1\n",
       "Name: cast, Length: 1389, dtype: int64"
      ]
     },
     "execution_count": 31,
     "metadata": {},
     "output_type": "execute_result"
    }
   ],
   "source": [
    "df['cast']=df['cast'].str.split(\"|\",expand=True)\n",
    "df['cast'].value_counts()"
   ]
  },
  {
   "cell_type": "code",
   "execution_count": 32,
   "metadata": {
    "scrolled": true
   },
   "outputs": [
    {
     "data": {
      "image/png": "[encoded data removed]",
      "text/plain": [
       "<matplotlib.figure.Figure at 0x7f3781570358>"
      ]
     },
     "metadata": {
      "needs_background": "light"
     },
     "output_type": "display_data"
    }
   ],
   "source": [
    "cast=df['cast'].value_counts().head(10).index\n",
    "dfcr=df.query('cast in @  cast').groupby('cast')['revenue'].mean()\n",
    "dfcr.plot(kind='bar',figsize=(18,5))\n",
    "#dfcr is data frame for cast and revenue\n",
    "plt.xlabel('Actors',fontsize=15)\n",
    "plt.ylabel('Revenue',fontsize=15)\n",
    "plt.title('Revenue of the 10 most Popular actors')\n",
    "plt.show()"
   ]
  },
  {
   "cell_type": "code",
   "execution_count": 37,
   "metadata": {},
   "outputs": [
    {
     "data": {
      "text/plain": [
       "Steven Spielberg     27\n",
       "Clint Eastwood       24\n",
       "Ridley Scott         20\n",
       "Woody Allen          18\n",
       "Steven Soderbergh    16\n",
       "Martin Scorsese      16\n",
       "Oliver Stone         15\n",
       "Renny Harlin         15\n",
       "Robert Zemeckis      14\n",
       "Wes Craven           14\n",
       "Name: director, dtype: int64"
      ]
     },
     "execution_count": 37,
     "metadata": {},
     "output_type": "execute_result"
    }
   ],
   "source": [
    "df['director'].value_counts().head(10)"
   ]
  },
  {
   "cell_type": "markdown",
   "metadata": {},
   "source": [
    "despite being the 9th actor in terms of total starred movies Tom Cruis generated the highest accumulative Revenue followed by Tom Hanks and Johnny Depp. Suprisingly the least Revenue belongs to the great Robert De Niro. "
   ]
  },
  {
   "cell_type": "code",
   "execution_count": 33,
   "metadata": {},
   "outputs": [
    {
     "data": {
      "image/png": "[encoded data removed]",
      "text/plain": [
       "<matplotlib.figure.Figure at 0x7f37807aa710>"
      ]
     },
     "metadata": {
      "needs_background": "light"
     },
     "output_type": "display_data"
    }
   ],
   "source": [
    "direc=df['director'].value_counts().head(10).index\n",
    "dfcr=df.query('director in @  direc').groupby('director')['revenue'].mean()\n",
    "dfcr.plot(kind='bar',figsize=(18,5))\n",
    "#dfcr is data frame for cast and revenue\n",
    "plt.xlabel('Directors',fontsize=15)\n",
    "plt.ylabel('Revenue',fontsize=15)\n",
    "plt.title('Revenue of the 10 most Popular Directors')\n",
    "plt.show()"
   ]
  },
  {
   "cell_type": "markdown",
   "metadata": {},
   "source": [
    "When it comes to directors, the man behind first Jurasic Park is associated with the highest cummulative revenue and Woody Allen scores last in this list."
   ]
  },
  {
   "cell_type": "markdown",
   "metadata": {},
   "source": [
    "<a id='conclusions'></a>\n",
    "## Conclusions\n",
    "\n",
    "In terms of Popularity there is increase with years despite the ups and downs in most of the decades. Budgets have positive impact on how movies are recieved by the audience. Also it was found that movies that are higher in popularity generates higher revenues. Last factor is the runtime of the movie which is also found to be positive with popularity, apparently people like movies that are longer.\n",
    "In the next segement we found that the three main genres Drama, Action, and Comedy collect the highest votings. Also Among the most popular actors Tom cruise, Tom Hanks, Johnny Depp have associated with the most revenue collected despite not being the most active among the top 10 actors. Lastly directors like Steven Spielberg, Robert Zemeckis, and Ridley Scott are the top in this case.\n",
    "\n",
    "Limitations to this analysis for starter is the huge amount of data that had to be dropped due to being null or equals zero. which if would had been left there would result in skewed data but also removing it minimized the movie data to less than the half affecting the insights in a way. Methods to calculate factors like popularity and voting count are not known despite being influencial to this study. "
   ]
  },
  {
   "cell_type": "code",
   "execution_count": null,
   "metadata": {},
   "outputs": [],
   "source": [
    "from subprocess import call\n",
    "call(['python', '-m', 'nbconvert', 'Investigate_a_Dataset.ipynb'])"
   ]
  }
 ],
 "metadata": {
  "kernelspec": {
   "display_name": "Python 3 (ipykernel)",
   "language": "python",
   "name": "python3"
  },
  "language_info": {
   "codemirror_mode": {
    "name": "ipython",
    "version": 3
   },
   "file_extension": ".py",
   "mimetype": "text/x-python",
   "name": "python",
   "nbconvert_exporter": "python",
   "pygments_lexer": "ipython3",
   "version": "3.8.12"
  }
 },
 "nbformat": 4,
 "nbformat_minor": 2
}
